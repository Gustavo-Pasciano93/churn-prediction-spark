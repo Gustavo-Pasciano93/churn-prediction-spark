{
  "nbformat": 4,
  "nbformat_minor": 0,
  "metadata": {
    "colab": {
      "provenance": []
    },
    "kernelspec": {
      "name": "python3",
      "display_name": "Python 3"
    },
    "language_info": {
      "name": "python"
    }
  },
  "cells": [
    {
      "cell_type": "code",
      "execution_count": null,
      "metadata": {
        "id": "m2_y-iqVRjbJ"
      },
      "outputs": [],
      "source": []
    },
    {
      "cell_type": "markdown",
      "source": [
        "Preparando o ambiente"
      ],
      "metadata": {
        "id": "G4sAAjqrR2Kz"
      }
    },
    {
      "cell_type": "code",
      "source": [
        "! pip install pyspark"
      ],
      "metadata": {
        "colab": {
          "base_uri": "https://localhost:8080/"
        },
        "id": "02GjiCTuR7F6",
        "outputId": "36b92e5a-23e3-4e50-8ca3-4871cf6f2e1a"
      },
      "execution_count": 1,
      "outputs": [
        {
          "output_type": "stream",
          "name": "stdout",
          "text": [
            "Requirement already satisfied: pyspark in /usr/local/lib/python3.11/dist-packages (3.5.4)\n",
            "Requirement already satisfied: py4j==0.10.9.7 in /usr/local/lib/python3.11/dist-packages (from pyspark) (0.10.9.7)\n"
          ]
        }
      ]
    },
    {
      "cell_type": "markdown",
      "source": [
        "SparkSession"
      ],
      "metadata": {
        "id": "iyFVjab_SL4I"
      }
    },
    {
      "cell_type": "code",
      "source": [
        "from pyspark.sql import SparkSession"
      ],
      "metadata": {
        "id": "PMEqY1C0SC5t"
      },
      "execution_count": 2,
      "outputs": []
    },
    {
      "cell_type": "code",
      "source": [
        "spark = SparkSession.builder.master('local[*]').appName(\"SparkMaster\").getOrCreate()"
      ],
      "metadata": {
        "id": "1-m9jRQ4SRpV"
      },
      "execution_count": 3,
      "outputs": []
    },
    {
      "cell_type": "code",
      "source": [
        "spark"
      ],
      "metadata": {
        "colab": {
          "base_uri": "https://localhost:8080/",
          "height": 219
        },
        "id": "OBMGyp4oT3_4",
        "outputId": "1c93f38a-063d-4fc2-a78a-3345c3ccbbf9"
      },
      "execution_count": 4,
      "outputs": [
        {
          "output_type": "execute_result",
          "data": {
            "text/plain": [
              "<pyspark.sql.session.SparkSession at 0x7d31f85f1ad0>"
            ],
            "text/html": [
              "\n",
              "            <div>\n",
              "                <p><b>SparkSession - in-memory</b></p>\n",
              "                \n",
              "        <div>\n",
              "            <p><b>SparkContext</b></p>\n",
              "\n",
              "            <p><a href=\"http://b14dcad0a659:4040\">Spark UI</a></p>\n",
              "\n",
              "            <dl>\n",
              "              <dt>Version</dt>\n",
              "                <dd><code>v3.5.4</code></dd>\n",
              "              <dt>Master</dt>\n",
              "                <dd><code>local[*]</code></dd>\n",
              "              <dt>AppName</dt>\n",
              "                <dd><code>SparkMaster</code></dd>\n",
              "            </dl>\n",
              "        </div>\n",
              "        \n",
              "            </div>\n",
              "        "
            ]
          },
          "metadata": {},
          "execution_count": 4
        }
      ]
    },
    {
      "cell_type": "markdown",
      "source": [
        "Carregando os dados"
      ],
      "metadata": {
        "id": "lKRXO1Y6Ug5z"
      }
    },
    {
      "cell_type": "code",
      "source": [
        "dados = spark.read.csv('dados_clientes.csv', sep=',', header=True, inferSchema=True)"
      ],
      "metadata": {
        "id": "hDAV6z-_Uw54"
      },
      "execution_count": 6,
      "outputs": []
    },
    {
      "cell_type": "code",
      "source": [
        "dados"
      ],
      "metadata": {
        "colab": {
          "base_uri": "https://localhost:8080/"
        },
        "id": "HCTqgKxTVN17",
        "outputId": "de6d09d8-a1ce-4565-e6d4-d136447bd683"
      },
      "execution_count": 7,
      "outputs": [
        {
          "output_type": "execute_result",
          "data": {
            "text/plain": [
              "DataFrame[id: int, Churn: string, Mais65anos: int, Conjuge: string, Dependentes: string, MesesDeContrato: int, TelefoneFixo: string, MaisDeUmaLinhaTelefonica: string, Internet: string, SegurancaOnline: string, BackupOnline: string, SeguroDispositivo: string, SuporteTecnico: string, TVaCabo: string, StreamingFilmes: string, TipoContrato: string, ContaCorreio: string, MetodoPagamento: string, MesesCobrados: double]"
            ]
          },
          "metadata": {},
          "execution_count": 7
        }
      ]
    },
    {
      "cell_type": "code",
      "source": [
        "dados.show()"
      ],
      "metadata": {
        "colab": {
          "base_uri": "https://localhost:8080/"
        },
        "id": "JTNVpUfKVQBi",
        "outputId": "dcb7560b-f61f-4e83-8695-757879ef1f24"
      },
      "execution_count": 8,
      "outputs": [
        {
          "output_type": "stream",
          "name": "stdout",
          "text": [
            "+---+-----+----------+-------+-----------+---------------+------------+------------------------+-----------+------------------+------------------+------------------+------------------+------------------+------------------+------------+------------+----------------+-------------+\n",
            "| id|Churn|Mais65anos|Conjuge|Dependentes|MesesDeContrato|TelefoneFixo|MaisDeUmaLinhaTelefonica|   Internet|   SegurancaOnline|      BackupOnline| SeguroDispositivo|    SuporteTecnico|           TVaCabo|   StreamingFilmes|TipoContrato|ContaCorreio| MetodoPagamento|MesesCobrados|\n",
            "+---+-----+----------+-------+-----------+---------------+------------+------------------------+-----------+------------------+------------------+------------------+------------------+------------------+------------------+------------+------------+----------------+-------------+\n",
            "|  0|  Nao|         0|    Sim|        Nao|              1|         Nao|    SemServicoTelefonico|        DSL|               Nao|               Sim|               Nao|               Nao|               Nao|               Nao| Mensalmente|         Sim|BoletoEletronico|        29.85|\n",
            "|  1|  Nao|         0|    Nao|        Nao|             34|         Sim|                     Nao|        DSL|               Sim|               Nao|               Sim|               Nao|               Nao|               Nao|       UmAno|         Nao|          Boleto|        56.95|\n",
            "|  2|  Sim|         0|    Nao|        Nao|              2|         Sim|                     Nao|        DSL|               Sim|               Sim|               Nao|               Nao|               Nao|               Nao| Mensalmente|         Sim|          Boleto|        53.85|\n",
            "|  3|  Nao|         0|    Nao|        Nao|             45|         Nao|    SemServicoTelefonico|        DSL|               Sim|               Nao|               Sim|               Sim|               Nao|               Nao|       UmAno|         Nao|   DebitoEmConta|         42.3|\n",
            "|  4|  Sim|         0|    Nao|        Nao|              2|         Sim|                     Nao|FibraOptica|               Nao|               Nao|               Nao|               Nao|               Nao|               Nao| Mensalmente|         Sim|BoletoEletronico|         70.7|\n",
            "|  5|  Sim|         0|    Nao|        Nao|              8|         Sim|                     Sim|FibraOptica|               Nao|               Nao|               Sim|               Nao|               Sim|               Sim| Mensalmente|         Sim|BoletoEletronico|        99.65|\n",
            "|  6|  Nao|         0|    Nao|        Sim|             22|         Sim|                     Sim|FibraOptica|               Nao|               Sim|               Nao|               Nao|               Sim|               Nao| Mensalmente|         Sim|   CartaoCredito|         89.1|\n",
            "|  7|  Nao|         0|    Nao|        Nao|             10|         Nao|    SemServicoTelefonico|        DSL|               Sim|               Nao|               Nao|               Nao|               Nao|               Nao| Mensalmente|         Nao|          Boleto|        29.75|\n",
            "|  8|  Sim|         0|    Sim|        Nao|             28|         Sim|                     Sim|FibraOptica|               Nao|               Nao|               Sim|               Sim|               Sim|               Sim| Mensalmente|         Sim|BoletoEletronico|        104.8|\n",
            "|  9|  Nao|         0|    Nao|        Sim|             62|         Sim|                     Nao|        DSL|               Sim|               Sim|               Nao|               Nao|               Nao|               Nao|       UmAno|         Nao|   DebitoEmConta|        56.15|\n",
            "| 10|  Nao|         0|    Sim|        Sim|             13|         Sim|                     Nao|        DSL|               Sim|               Nao|               Nao|               Nao|               Nao|               Nao| Mensalmente|         Sim|          Boleto|        49.95|\n",
            "| 11|  Nao|         0|    Nao|        Nao|             16|         Sim|                     Nao|        Nao|SemServicoInternet|SemServicoInternet|SemServicoInternet|SemServicoInternet|SemServicoInternet|SemServicoInternet|    DoisAnos|         Nao|   CartaoCredito|        18.95|\n",
            "| 12|  Nao|         0|    Sim|        Nao|             58|         Sim|                     Sim|FibraOptica|               Nao|               Nao|               Sim|               Nao|               Sim|               Sim|       UmAno|         Nao|   CartaoCredito|       100.35|\n",
            "| 13|  Sim|         0|    Nao|        Nao|             49|         Sim|                     Sim|FibraOptica|               Nao|               Sim|               Sim|               Nao|               Sim|               Sim| Mensalmente|         Sim|   DebitoEmConta|        103.7|\n",
            "| 14|  Nao|         0|    Nao|        Nao|             25|         Sim|                     Nao|FibraOptica|               Sim|               Nao|               Sim|               Sim|               Sim|               Sim| Mensalmente|         Sim|BoletoEletronico|        105.5|\n",
            "| 15|  Nao|         0|    Sim|        Sim|             69|         Sim|                     Sim|FibraOptica|               Sim|               Sim|               Sim|               Sim|               Sim|               Sim|    DoisAnos|         Nao|   CartaoCredito|       113.25|\n",
            "| 16|  Nao|         0|    Nao|        Nao|             52|         Sim|                     Nao|        Nao|SemServicoInternet|SemServicoInternet|SemServicoInternet|SemServicoInternet|SemServicoInternet|SemServicoInternet|       UmAno|         Nao|          Boleto|        20.65|\n",
            "| 17|  Nao|         0|    Nao|        Sim|             71|         Sim|                     Sim|FibraOptica|               Sim|               Nao|               Sim|               Nao|               Sim|               Sim|    DoisAnos|         Nao|   DebitoEmConta|        106.7|\n",
            "| 18|  Sim|         0|    Sim|        Sim|             10|         Sim|                     Nao|        DSL|               Nao|               Nao|               Sim|               Sim|               Nao|               Nao| Mensalmente|         Nao|   CartaoCredito|         55.2|\n",
            "| 19|  Nao|         0|    Nao|        Nao|             21|         Sim|                     Nao|FibraOptica|               Nao|               Sim|               Sim|               Nao|               Nao|               Sim| Mensalmente|         Sim|BoletoEletronico|        90.05|\n",
            "+---+-----+----------+-------+-----------+---------------+------------+------------------------+-----------+------------------+------------------+------------------+------------------+------------------+------------------+------------+------------+----------------+-------------+\n",
            "only showing top 20 rows\n",
            "\n"
          ]
        }
      ]
    },
    {
      "cell_type": "code",
      "source": [
        "dados.count()"
      ],
      "metadata": {
        "colab": {
          "base_uri": "https://localhost:8080/"
        },
        "id": "-F-tMFEKV3bR",
        "outputId": "c1f3ea74-31d4-4269-f4bc-da2b43e05533"
      },
      "execution_count": 9,
      "outputs": [
        {
          "output_type": "execute_result",
          "data": {
            "text/plain": [
              "10348"
            ]
          },
          "metadata": {},
          "execution_count": 9
        }
      ]
    },
    {
      "cell_type": "code",
      "source": [
        "dados.groupBy('Churn').count().show()"
      ],
      "metadata": {
        "colab": {
          "base_uri": "https://localhost:8080/"
        },
        "id": "cxXd3OjFV9sB",
        "outputId": "3c3e637a-4749-4760-cf75-3cdf512ffec2"
      },
      "execution_count": 10,
      "outputs": [
        {
          "output_type": "stream",
          "name": "stdout",
          "text": [
            "+-----+-----+\n",
            "|Churn|count|\n",
            "+-----+-----+\n",
            "|  Sim| 5174|\n",
            "|  Nao| 5174|\n",
            "+-----+-----+\n",
            "\n"
          ]
        }
      ]
    },
    {
      "cell_type": "code",
      "source": [
        "dados.printSchema()"
      ],
      "metadata": {
        "colab": {
          "base_uri": "https://localhost:8080/"
        },
        "id": "vbfPzOSKWH2U",
        "outputId": "26fb7150-83e7-401b-b3a0-75f76b0d7900"
      },
      "execution_count": 11,
      "outputs": [
        {
          "output_type": "stream",
          "name": "stdout",
          "text": [
            "root\n",
            " |-- id: integer (nullable = true)\n",
            " |-- Churn: string (nullable = true)\n",
            " |-- Mais65anos: integer (nullable = true)\n",
            " |-- Conjuge: string (nullable = true)\n",
            " |-- Dependentes: string (nullable = true)\n",
            " |-- MesesDeContrato: integer (nullable = true)\n",
            " |-- TelefoneFixo: string (nullable = true)\n",
            " |-- MaisDeUmaLinhaTelefonica: string (nullable = true)\n",
            " |-- Internet: string (nullable = true)\n",
            " |-- SegurancaOnline: string (nullable = true)\n",
            " |-- BackupOnline: string (nullable = true)\n",
            " |-- SeguroDispositivo: string (nullable = true)\n",
            " |-- SuporteTecnico: string (nullable = true)\n",
            " |-- TVaCabo: string (nullable = true)\n",
            " |-- StreamingFilmes: string (nullable = true)\n",
            " |-- TipoContrato: string (nullable = true)\n",
            " |-- ContaCorreio: string (nullable = true)\n",
            " |-- MetodoPagamento: string (nullable = true)\n",
            " |-- MesesCobrados: double (nullable = true)\n",
            "\n"
          ]
        }
      ]
    },
    {
      "cell_type": "markdown",
      "source": [
        "Transformando os dados"
      ],
      "metadata": {
        "id": "fv9QEmmnWTOZ"
      }
    },
    {
      "cell_type": "code",
      "source": [
        "colunasBinarias = [\n",
        "    'Churn',\n",
        "    'Conjuge',\n",
        "    'Dependentes',\n",
        "    'TelefoneFixo',\n",
        "    'MaisDeUmaLinhaTelefonica',\n",
        "    'SegurancaOnline',\n",
        "    'BackupOnline',\n",
        "    'SeguroDispositivo',\n",
        "    'SuporteTecnico',\n",
        "    'TVaCabo',\n",
        "    'StreamingFilmes',\n",
        "    'ContaCorreio'\n",
        "]"
      ],
      "metadata": {
        "id": "bfuYP1lVWUdx"
      },
      "execution_count": 12,
      "outputs": []
    },
    {
      "cell_type": "code",
      "source": [
        "from pyspark.sql import functions as f"
      ],
      "metadata": {
        "id": "X4st_BnqWccc"
      },
      "execution_count": 13,
      "outputs": []
    },
    {
      "cell_type": "code",
      "source": [
        "todasColunas = [f.when(f.col(c)== 'Sim', 1).otherwise(0).alias(c) for c in colunasBinarias]"
      ],
      "metadata": {
        "id": "OJsS8BhCWibd"
      },
      "execution_count": 14,
      "outputs": []
    },
    {
      "cell_type": "code",
      "source": [
        "for coluna in reversed(dados.columns):\n",
        "  if coluna not in colunasBinarias:\n",
        "    todasColunas.insert(0, coluna)\n",
        "todasColunas"
      ],
      "metadata": {
        "colab": {
          "base_uri": "https://localhost:8080/"
        },
        "id": "gQPfuoSpXAko",
        "outputId": "9e60e529-1b8d-4784-aa94-16479874aea4"
      },
      "execution_count": 16,
      "outputs": [
        {
          "output_type": "execute_result",
          "data": {
            "text/plain": [
              "['id',\n",
              " 'Mais65anos',\n",
              " 'MesesDeContrato',\n",
              " 'Internet',\n",
              " 'TipoContrato',\n",
              " 'MetodoPagamento',\n",
              " 'MesesCobrados',\n",
              " 'id',\n",
              " 'Mais65anos',\n",
              " 'MesesDeContrato',\n",
              " 'Internet',\n",
              " 'TipoContrato',\n",
              " 'MetodoPagamento',\n",
              " 'MesesCobrados',\n",
              " Column<'CASE WHEN (Churn = Sim) THEN 1 ELSE 0 END AS Churn'>,\n",
              " Column<'CASE WHEN (Conjuge = Sim) THEN 1 ELSE 0 END AS Conjuge'>,\n",
              " Column<'CASE WHEN (Dependentes = Sim) THEN 1 ELSE 0 END AS Dependentes'>,\n",
              " Column<'CASE WHEN (TelefoneFixo = Sim) THEN 1 ELSE 0 END AS TelefoneFixo'>,\n",
              " Column<'CASE WHEN (MaisDeUmaLinhaTelefonica = Sim) THEN 1 ELSE 0 END AS MaisDeUmaLinhaTelefonica'>,\n",
              " Column<'CASE WHEN (SegurancaOnline = Sim) THEN 1 ELSE 0 END AS SegurancaOnline'>,\n",
              " Column<'CASE WHEN (BackupOnline = Sim) THEN 1 ELSE 0 END AS BackupOnline'>,\n",
              " Column<'CASE WHEN (SeguroDispositivo = Sim) THEN 1 ELSE 0 END AS SeguroDispositivo'>,\n",
              " Column<'CASE WHEN (SuporteTecnico = Sim) THEN 1 ELSE 0 END AS SuporteTecnico'>,\n",
              " Column<'CASE WHEN (TVaCabo = Sim) THEN 1 ELSE 0 END AS TVaCabo'>,\n",
              " Column<'CASE WHEN (StreamingFilmes = Sim) THEN 1 ELSE 0 END AS StreamingFilmes'>,\n",
              " Column<'CASE WHEN (ContaCorreio = Sim) THEN 1 ELSE 0 END AS ContaCorreio'>]"
            ]
          },
          "metadata": {},
          "execution_count": 16
        }
      ]
    },
    {
      "cell_type": "code",
      "source": [
        "dados.select(todasColunas).show()"
      ],
      "metadata": {
        "colab": {
          "base_uri": "https://localhost:8080/"
        },
        "id": "EeoW3cB0Xd5n",
        "outputId": "c6446734-26e8-4c89-9063-4d8f17d9c0e4"
      },
      "execution_count": 17,
      "outputs": [
        {
          "output_type": "stream",
          "name": "stdout",
          "text": [
            "+---+----------+---------------+-----------+------------+----------------+-------------+---+----------+---------------+-----------+------------+----------------+-------------+-----+-------+-----------+------------+------------------------+---------------+------------+-----------------+--------------+-------+---------------+------------+\n",
            "| id|Mais65anos|MesesDeContrato|   Internet|TipoContrato| MetodoPagamento|MesesCobrados| id|Mais65anos|MesesDeContrato|   Internet|TipoContrato| MetodoPagamento|MesesCobrados|Churn|Conjuge|Dependentes|TelefoneFixo|MaisDeUmaLinhaTelefonica|SegurancaOnline|BackupOnline|SeguroDispositivo|SuporteTecnico|TVaCabo|StreamingFilmes|ContaCorreio|\n",
            "+---+----------+---------------+-----------+------------+----------------+-------------+---+----------+---------------+-----------+------------+----------------+-------------+-----+-------+-----------+------------+------------------------+---------------+------------+-----------------+--------------+-------+---------------+------------+\n",
            "|  0|         0|              1|        DSL| Mensalmente|BoletoEletronico|        29.85|  0|         0|              1|        DSL| Mensalmente|BoletoEletronico|        29.85|    0|      1|          0|           0|                       0|              0|           1|                0|             0|      0|              0|           1|\n",
            "|  1|         0|             34|        DSL|       UmAno|          Boleto|        56.95|  1|         0|             34|        DSL|       UmAno|          Boleto|        56.95|    0|      0|          0|           1|                       0|              1|           0|                1|             0|      0|              0|           0|\n",
            "|  2|         0|              2|        DSL| Mensalmente|          Boleto|        53.85|  2|         0|              2|        DSL| Mensalmente|          Boleto|        53.85|    1|      0|          0|           1|                       0|              1|           1|                0|             0|      0|              0|           1|\n",
            "|  3|         0|             45|        DSL|       UmAno|   DebitoEmConta|         42.3|  3|         0|             45|        DSL|       UmAno|   DebitoEmConta|         42.3|    0|      0|          0|           0|                       0|              1|           0|                1|             1|      0|              0|           0|\n",
            "|  4|         0|              2|FibraOptica| Mensalmente|BoletoEletronico|         70.7|  4|         0|              2|FibraOptica| Mensalmente|BoletoEletronico|         70.7|    1|      0|          0|           1|                       0|              0|           0|                0|             0|      0|              0|           1|\n",
            "|  5|         0|              8|FibraOptica| Mensalmente|BoletoEletronico|        99.65|  5|         0|              8|FibraOptica| Mensalmente|BoletoEletronico|        99.65|    1|      0|          0|           1|                       1|              0|           0|                1|             0|      1|              1|           1|\n",
            "|  6|         0|             22|FibraOptica| Mensalmente|   CartaoCredito|         89.1|  6|         0|             22|FibraOptica| Mensalmente|   CartaoCredito|         89.1|    0|      0|          1|           1|                       1|              0|           1|                0|             0|      1|              0|           1|\n",
            "|  7|         0|             10|        DSL| Mensalmente|          Boleto|        29.75|  7|         0|             10|        DSL| Mensalmente|          Boleto|        29.75|    0|      0|          0|           0|                       0|              1|           0|                0|             0|      0|              0|           0|\n",
            "|  8|         0|             28|FibraOptica| Mensalmente|BoletoEletronico|        104.8|  8|         0|             28|FibraOptica| Mensalmente|BoletoEletronico|        104.8|    1|      1|          0|           1|                       1|              0|           0|                1|             1|      1|              1|           1|\n",
            "|  9|         0|             62|        DSL|       UmAno|   DebitoEmConta|        56.15|  9|         0|             62|        DSL|       UmAno|   DebitoEmConta|        56.15|    0|      0|          1|           1|                       0|              1|           1|                0|             0|      0|              0|           0|\n",
            "| 10|         0|             13|        DSL| Mensalmente|          Boleto|        49.95| 10|         0|             13|        DSL| Mensalmente|          Boleto|        49.95|    0|      1|          1|           1|                       0|              1|           0|                0|             0|      0|              0|           1|\n",
            "| 11|         0|             16|        Nao|    DoisAnos|   CartaoCredito|        18.95| 11|         0|             16|        Nao|    DoisAnos|   CartaoCredito|        18.95|    0|      0|          0|           1|                       0|              0|           0|                0|             0|      0|              0|           0|\n",
            "| 12|         0|             58|FibraOptica|       UmAno|   CartaoCredito|       100.35| 12|         0|             58|FibraOptica|       UmAno|   CartaoCredito|       100.35|    0|      1|          0|           1|                       1|              0|           0|                1|             0|      1|              1|           0|\n",
            "| 13|         0|             49|FibraOptica| Mensalmente|   DebitoEmConta|        103.7| 13|         0|             49|FibraOptica| Mensalmente|   DebitoEmConta|        103.7|    1|      0|          0|           1|                       1|              0|           1|                1|             0|      1|              1|           1|\n",
            "| 14|         0|             25|FibraOptica| Mensalmente|BoletoEletronico|        105.5| 14|         0|             25|FibraOptica| Mensalmente|BoletoEletronico|        105.5|    0|      0|          0|           1|                       0|              1|           0|                1|             1|      1|              1|           1|\n",
            "| 15|         0|             69|FibraOptica|    DoisAnos|   CartaoCredito|       113.25| 15|         0|             69|FibraOptica|    DoisAnos|   CartaoCredito|       113.25|    0|      1|          1|           1|                       1|              1|           1|                1|             1|      1|              1|           0|\n",
            "| 16|         0|             52|        Nao|       UmAno|          Boleto|        20.65| 16|         0|             52|        Nao|       UmAno|          Boleto|        20.65|    0|      0|          0|           1|                       0|              0|           0|                0|             0|      0|              0|           0|\n",
            "| 17|         0|             71|FibraOptica|    DoisAnos|   DebitoEmConta|        106.7| 17|         0|             71|FibraOptica|    DoisAnos|   DebitoEmConta|        106.7|    0|      0|          1|           1|                       1|              1|           0|                1|             0|      1|              1|           0|\n",
            "| 18|         0|             10|        DSL| Mensalmente|   CartaoCredito|         55.2| 18|         0|             10|        DSL| Mensalmente|   CartaoCredito|         55.2|    1|      1|          1|           1|                       0|              0|           0|                1|             1|      0|              0|           0|\n",
            "| 19|         0|             21|FibraOptica| Mensalmente|BoletoEletronico|        90.05| 19|         0|             21|FibraOptica| Mensalmente|BoletoEletronico|        90.05|    0|      0|          0|           1|                       0|              0|           1|                1|             0|      0|              1|           1|\n",
            "+---+----------+---------------+-----------+------------+----------------+-------------+---+----------+---------------+-----------+------------+----------------+-------------+-----+-------+-----------+------------+------------------------+---------------+------------+-----------------+--------------+-------+---------------+------------+\n",
            "only showing top 20 rows\n",
            "\n"
          ]
        }
      ]
    },
    {
      "cell_type": "code",
      "source": [
        "dataset = dados.select(todasColunas)"
      ],
      "metadata": {
        "id": "W8Z8AezqYP5X"
      },
      "execution_count": 18,
      "outputs": []
    },
    {
      "cell_type": "code",
      "source": [
        "dataset.printSchema()"
      ],
      "metadata": {
        "colab": {
          "base_uri": "https://localhost:8080/"
        },
        "id": "2ON89lrxYZa8",
        "outputId": "e6479ace-d97c-4965-eff2-0cb24d8f811d"
      },
      "execution_count": 19,
      "outputs": [
        {
          "output_type": "stream",
          "name": "stdout",
          "text": [
            "root\n",
            " |-- id: integer (nullable = true)\n",
            " |-- Mais65anos: integer (nullable = true)\n",
            " |-- MesesDeContrato: integer (nullable = true)\n",
            " |-- Internet: string (nullable = true)\n",
            " |-- TipoContrato: string (nullable = true)\n",
            " |-- MetodoPagamento: string (nullable = true)\n",
            " |-- MesesCobrados: double (nullable = true)\n",
            " |-- id: integer (nullable = true)\n",
            " |-- Mais65anos: integer (nullable = true)\n",
            " |-- MesesDeContrato: integer (nullable = true)\n",
            " |-- Internet: string (nullable = true)\n",
            " |-- TipoContrato: string (nullable = true)\n",
            " |-- MetodoPagamento: string (nullable = true)\n",
            " |-- MesesCobrados: double (nullable = true)\n",
            " |-- Churn: integer (nullable = false)\n",
            " |-- Conjuge: integer (nullable = false)\n",
            " |-- Dependentes: integer (nullable = false)\n",
            " |-- TelefoneFixo: integer (nullable = false)\n",
            " |-- MaisDeUmaLinhaTelefonica: integer (nullable = false)\n",
            " |-- SegurancaOnline: integer (nullable = false)\n",
            " |-- BackupOnline: integer (nullable = false)\n",
            " |-- SeguroDispositivo: integer (nullable = false)\n",
            " |-- SuporteTecnico: integer (nullable = false)\n",
            " |-- TVaCabo: integer (nullable = false)\n",
            " |-- StreamingFilmes: integer (nullable = false)\n",
            " |-- ContaCorreio: integer (nullable = false)\n",
            "\n"
          ]
        }
      ]
    },
    {
      "cell_type": "markdown",
      "source": [
        "Criando Dummies"
      ],
      "metadata": {
        "id": "L_W5-6CdYtuH"
      }
    },
    {
      "cell_type": "code",
      "source": [
        "dados.select(['Internet', 'TipoContrato', 'MetodoPagamento']).show()"
      ],
      "metadata": {
        "colab": {
          "base_uri": "https://localhost:8080/"
        },
        "id": "UQdcKQYDYv66",
        "outputId": "423f0341-d4d1-4a37-c956-067933014012"
      },
      "execution_count": 20,
      "outputs": [
        {
          "output_type": "stream",
          "name": "stdout",
          "text": [
            "+-----------+------------+----------------+\n",
            "|   Internet|TipoContrato| MetodoPagamento|\n",
            "+-----------+------------+----------------+\n",
            "|        DSL| Mensalmente|BoletoEletronico|\n",
            "|        DSL|       UmAno|          Boleto|\n",
            "|        DSL| Mensalmente|          Boleto|\n",
            "|        DSL|       UmAno|   DebitoEmConta|\n",
            "|FibraOptica| Mensalmente|BoletoEletronico|\n",
            "|FibraOptica| Mensalmente|BoletoEletronico|\n",
            "|FibraOptica| Mensalmente|   CartaoCredito|\n",
            "|        DSL| Mensalmente|          Boleto|\n",
            "|FibraOptica| Mensalmente|BoletoEletronico|\n",
            "|        DSL|       UmAno|   DebitoEmConta|\n",
            "|        DSL| Mensalmente|          Boleto|\n",
            "|        Nao|    DoisAnos|   CartaoCredito|\n",
            "|FibraOptica|       UmAno|   CartaoCredito|\n",
            "|FibraOptica| Mensalmente|   DebitoEmConta|\n",
            "|FibraOptica| Mensalmente|BoletoEletronico|\n",
            "|FibraOptica|    DoisAnos|   CartaoCredito|\n",
            "|        Nao|       UmAno|          Boleto|\n",
            "|FibraOptica|    DoisAnos|   DebitoEmConta|\n",
            "|        DSL| Mensalmente|   CartaoCredito|\n",
            "|FibraOptica| Mensalmente|BoletoEletronico|\n",
            "+-----------+------------+----------------+\n",
            "only showing top 20 rows\n",
            "\n"
          ]
        }
      ]
    },
    {
      "cell_type": "code",
      "source": [],
      "metadata": {
        "id": "8JndXt1vZI3I"
      },
      "execution_count": null,
      "outputs": []
    },
    {
      "cell_type": "code",
      "source": [
        "dataset.groupBy('id').pivot('Internet').agg(f.lit(1)).na.fill(0).show()"
      ],
      "metadata": {
        "colab": {
          "base_uri": "https://localhost:8080/"
        },
        "id": "U13gTt2oZJc0",
        "outputId": "f072bcc2-569c-4925-ed96-d6896c621e6f"
      },
      "execution_count": 21,
      "outputs": [
        {
          "output_type": "stream",
          "name": "stdout",
          "text": [
            "+----+---+-----------+---+\n",
            "|  id|DSL|FibraOptica|Nao|\n",
            "+----+---+-----------+---+\n",
            "|7982|  1|          0|  0|\n",
            "|9465|  0|          1|  0|\n",
            "|2122|  1|          0|  0|\n",
            "|3997|  1|          0|  0|\n",
            "|6654|  0|          1|  0|\n",
            "|7880|  0|          1|  0|\n",
            "|4519|  0|          1|  0|\n",
            "|6466|  0|          1|  0|\n",
            "| 496|  1|          0|  0|\n",
            "|7833|  0|          1|  0|\n",
            "|1591|  0|          0|  1|\n",
            "|2866|  0|          1|  0|\n",
            "|8592|  0|          1|  0|\n",
            "|1829|  0|          1|  0|\n",
            "| 463|  0|          1|  0|\n",
            "|4900|  0|          1|  0|\n",
            "|4818|  0|          1|  0|\n",
            "|7554|  1|          0|  0|\n",
            "|1342|  0|          0|  1|\n",
            "|5300|  0|          1|  0|\n",
            "+----+---+-----------+---+\n",
            "only showing top 20 rows\n",
            "\n"
          ]
        }
      ]
    },
    {
      "cell_type": "code",
      "source": [
        "Internet = dataset.groupBy('id').pivot('Internet').agg(f.lit(1)).na.fill(0)\n",
        "TipoContrato = dataset.groupBy('id').pivot('TipoContrato').agg(f.lit(1)).na.fill(0)\n",
        "MetodoPagamento = dataset.groupBy('id').pivot('MetodoPagamento').agg(f.lit(1)).na.fill(0)"
      ],
      "metadata": {
        "id": "o-2cbPNmZfk8"
      },
      "execution_count": 23,
      "outputs": []
    },
    {
      "cell_type": "code",
      "source": [
        "dataset\\\n",
        ".join(Internet, 'id', how='inner')\\\n",
        ".join(TipoContrato, 'id', how='inner')\\\n",
        ".join(MetodoPagamento, 'id', how='inner')\\\n",
        ".select(\n",
        "    '*',\n",
        "    f.col('DSL').alias('Internet_DSL'),\n",
        "    f.col('FibraOptica').alias('Internet_FibraOptica'),\n",
        "    f.col('Nao').alias('Internet_Nao'),\n",
        "    f.col('Mensalmente').alias('TipoContrato_Mensalmente'),\n",
        "    f.col('UmAno').alias('TipoContrato_UmAno'),\n",
        "    f.col('DoisAnos').alias('TipoContrato_DoisAnos'),\n",
        "    f.col('DebitoEmConta').alias('MetodoPagamento_DebitoEmConta'),\n",
        "    f.col('CartaoCredito').alias('MetodoPagamento_CartaoCredito'),\n",
        "    f.col('BoletoEletronico').alias('MetodoPagamento_BoletoEletronico'),\n",
        "    f.col('Boleto').alias('MetodoPagamento_Boleto')\n",
        ")\\\n",
        ".drop(\n",
        "    'Internet', 'TipoContrato', 'MetodoPagamento', 'DSL',\n",
        "    'FibraOptica', 'Nao', 'Mensalmente', 'UmAno', 'DoisAnos',\n",
        "    'DebitoEmConta', 'CartaoCredito', 'BoletoEletronico', 'Boleto'\n",
        ")\\\n",
        ".show()"
      ],
      "metadata": {
        "colab": {
          "base_uri": "https://localhost:8080/"
        },
        "id": "dPWKux7-Z5xP",
        "outputId": "13756c1d-e7e5-435a-e086-dfef857d40d1"
      },
      "execution_count": 25,
      "outputs": [
        {
          "output_type": "stream",
          "name": "stdout",
          "text": [
            "+----+----------+---------------+-----------------+----------+---------------+-----------------+-----+-------+-----------+------------+------------------------+---------------+------------+-----------------+--------------+-------+---------------+------------+------------+--------------------+------------+------------------------+------------------+---------------------+-----------------------------+-----------------------------+--------------------------------+----------------------+\n",
            "|  id|Mais65anos|MesesDeContrato|    MesesCobrados|Mais65anos|MesesDeContrato|    MesesCobrados|Churn|Conjuge|Dependentes|TelefoneFixo|MaisDeUmaLinhaTelefonica|SegurancaOnline|BackupOnline|SeguroDispositivo|SuporteTecnico|TVaCabo|StreamingFilmes|ContaCorreio|Internet_DSL|Internet_FibraOptica|Internet_Nao|TipoContrato_Mensalmente|TipoContrato_UmAno|TipoContrato_DoisAnos|MetodoPagamento_DebitoEmConta|MetodoPagamento_CartaoCredito|MetodoPagamento_BoletoEletronico|MetodoPagamento_Boleto|\n",
            "+----+----------+---------------+-----------------+----------+---------------+-----------------+-----+-------+-----------+------------+------------------------+---------------+------------+-----------------+--------------+-------+---------------+------------+------------+--------------------+------------+------------------------+------------------+---------------------+-----------------------------+-----------------------------+--------------------------------+----------------------+\n",
            "|7982|         0|              1|45.30540797610398|         0|              1|45.30540797610398|    1|      0|          0|           0|                       0|              0|           0|                0|             0|      1|              1|           1|           1|                   0|           0|                       1|                 0|                    0|                            0|                            0|                               1|                     0|\n",
            "|9465|         0|             60|103.6142230120257|         0|             60|103.6142230120257|    1|      1|          0|           1|                       1|              0|           1|                1|             0|      1|              1|           1|           0|                   1|           0|                       1|                 0|                    0|                            0|                            0|                               1|                     0|\n",
            "|2122|         0|             12|            75.85|         0|             12|            75.85|    0|      0|          0|           1|                       1|              0|           0|                0|             1|      1|              1|           1|           1|                   0|           0|                       0|                 1|                    0|                            0|                            0|                               0|                     1|\n",
            "|3997|         0|             69|            61.45|         0|             69|            61.45|    0|      1|          0|           1|                       0|              0|           1|                0|             0|      0|              1|           1|           1|                   0|           0|                       0|                 0|                    1|                            0|                            1|                               0|                     0|\n",
            "|6654|         0|              7|             86.5|         0|              7|             86.5|    1|      1|          0|           1|                       1|              0|           0|                0|             0|      1|              0|           1|           0|                   1|           0|                       1|                 0|                    0|                            0|                            0|                               1|                     0|\n",
            "|7880|         0|             14|85.03742670311915|         0|             14|85.03742670311915|    1|      0|          0|           1|                       1|              0|           0|                0|             0|      0|              1|           1|           0|                   1|           0|                       1|                 0|                    0|                            0|                            0|                               1|                     0|\n",
            "|4519|         0|             57|            109.4|         0|             57|            109.4|    0|      1|          0|           1|                       1|              0|           1|                1|             1|      1|              1|           1|           0|                   1|           0|                       0|                 1|                    0|                            1|                            0|                               0|                     0|\n",
            "|6466|         0|             18|            74.15|         0|             18|            74.15|    0|      0|          0|           1|                       1|              0|           0|                0|             0|      0|              0|           0|           0|                   1|           0|                       1|                 0|                    0|                            0|                            0|                               0|                     1|\n",
            "| 496|         0|             28|             60.9|         0|             28|             60.9|    0|      1|          0|           1|                       0|              1|           1|                0|             1|      0|              0|           0|           1|                   0|           0|                       1|                 0|                    0|                            0|                            0|                               0|                     1|\n",
            "|7833|         0|             46| 80.8824189403559|         0|             46| 80.8824189403559|    1|      1|          0|           1|                       0|              0|           0|                0|             0|      0|              1|           1|           0|                   1|           0|                       1|                 0|                    0|                            0|                            0|                               1|                     0|\n",
            "|1591|         0|             17|             21.1|         0|             17|             21.1|    0|      0|          0|           1|                       0|              0|           0|                0|             0|      0|              0|           0|           0|                   0|           1|                       1|                 0|                    0|                            0|                            1|                               0|                     0|\n",
            "|2866|         0|             12|             84.6|         0|             12|             84.6|    0|      0|          0|           1|                       0|              0|           1|                0|             0|      0|              1|           1|           0|                   1|           0|                       1|                 0|                    0|                            0|                            0|                               1|                     0|\n",
            "|8592|         0|              5|82.71735660557214|         0|              5|82.71735660557214|    1|      1|          0|           1|                       1|              0|           0|                0|             0|      1|              0|           1|           0|                   1|           0|                       1|                 0|                    0|                            0|                            0|                               1|                     0|\n",
            "|1829|         0|              8|            74.85|         0|              8|            74.85|    0|      0|          0|           1|                       1|              0|           0|                0|             0|      0|              0|           1|           0|                   1|           0|                       1|                 0|                    0|                            0|                            0|                               1|                     0|\n",
            "| 463|         0|              7|             99.8|         0|              7|             99.8|    1|      0|          0|           1|                       1|              0|           1|                0|             0|      1|              1|           1|           0|                   1|           0|                       1|                 0|                    0|                            0|                            0|                               1|                     0|\n",
            "|4900|         1|             37|             85.7|         1|             37|             85.7|    1|      1|          0|           1|                       1|              0|           0|                0|             0|      1|              0|           1|           0|                   1|           0|                       1|                 0|                    0|                            0|                            0|                               1|                     0|\n",
            "|4818|         1|             64|             80.3|         1|             64|             80.3|    0|      1|          0|           1|                       0|              1|           0|                1|             0|      0|              0|           0|           0|                   1|           0|                       0|                 1|                    0|                            0|                            1|                               0|                     0|\n",
            "|7554|         0|              1|50.74303124820026|         0|              1|50.74303124820026|    1|      0|          0|           1|                       0|              0|           1|                0|             0|      0|              0|           0|           1|                   0|           0|                       1|                 0|                    0|                            0|                            0|                               1|                     0|\n",
            "|1342|         0|              8|             20.0|         0|              8|             20.0|    0|      0|          0|           1|                       0|              0|           0|                0|             0|      0|              0|           0|           0|                   0|           1|                       0|                 0|                    1|                            0|                            0|                               0|                     1|\n",
            "|5300|         0|              1|            80.05|         0|              1|            80.05|    1|      1|          1|           1|                       0|              0|           0|                0|             0|      1|              0|           1|           0|                   1|           0|                       1|                 0|                    0|                            0|                            0|                               0|                     1|\n",
            "+----+----------+---------------+-----------------+----------+---------------+-----------------+-----+-------+-----------+------------+------------------------+---------------+------------+-----------------+--------------+-------+---------------+------------+------------+--------------------+------------+------------------------+------------------+---------------------+-----------------------------+-----------------------------+--------------------------------+----------------------+\n",
            "only showing top 20 rows\n",
            "\n"
          ]
        }
      ]
    },
    {
      "cell_type": "code",
      "source": [
        "dataset = dataset\\\n",
        ".join(Internet, 'id', how='inner')\\\n",
        ".join(TipoContrato, 'id', how='inner')\\\n",
        ".join(MetodoPagamento, 'id', how='inner')\\\n",
        ".select(\n",
        "    '*',\n",
        "    f.col('DSL').alias('Internet_DSL'),\n",
        "    f.col('FibraOptica').alias('Internet_FibraOptica'),\n",
        "    f.col('Nao').alias('Internet_Nao'),\n",
        "    f.col('Mensalmente').alias('TipoContrato_Mensalmente'),\n",
        "    f.col('UmAno').alias('TipoContrato_UmAno'),\n",
        "    f.col('DoisAnos').alias('TipoContrato_DoisAnos'),\n",
        "    f.col('DebitoEmConta').alias('MetodoPagamento_DebitoEmConta'),\n",
        "    f.col('CartaoCredito').alias('MetodoPagamento_CartaoCredito'),\n",
        "    f.col('BoletoEletronico').alias('MetodoPagamento_BoletoEletronico'),\n",
        "    f.col('Boleto').alias('MetodoPagamento_Boleto')\n",
        ")\\\n",
        ".drop(\n",
        "    'Internet', 'TipoContrato', 'MetodoPagamento', 'DSL',\n",
        "    'FibraOptica', 'Nao', 'Mensalmente', 'UmAno', 'DoisAnos',\n",
        "    'DebitoEmConta', 'CartaoCredito', 'BoletoEletronico', 'Boleto'\n",
        ")"
      ],
      "metadata": {
        "id": "f3XhDo51bkSj"
      },
      "execution_count": 26,
      "outputs": []
    },
    {
      "cell_type": "code",
      "source": [
        "dataset.show()"
      ],
      "metadata": {
        "colab": {
          "base_uri": "https://localhost:8080/"
        },
        "id": "Zg0p1-jfbrYU",
        "outputId": "6cba6d4c-3852-4d06-b871-7d3e55d90245"
      },
      "execution_count": 27,
      "outputs": [
        {
          "output_type": "stream",
          "name": "stdout",
          "text": [
            "+----+----------+---------------+-----------------+----------+---------------+-----------------+-----+-------+-----------+------------+------------------------+---------------+------------+-----------------+--------------+-------+---------------+------------+------------+--------------------+------------+------------------------+------------------+---------------------+-----------------------------+-----------------------------+--------------------------------+----------------------+\n",
            "|  id|Mais65anos|MesesDeContrato|    MesesCobrados|Mais65anos|MesesDeContrato|    MesesCobrados|Churn|Conjuge|Dependentes|TelefoneFixo|MaisDeUmaLinhaTelefonica|SegurancaOnline|BackupOnline|SeguroDispositivo|SuporteTecnico|TVaCabo|StreamingFilmes|ContaCorreio|Internet_DSL|Internet_FibraOptica|Internet_Nao|TipoContrato_Mensalmente|TipoContrato_UmAno|TipoContrato_DoisAnos|MetodoPagamento_DebitoEmConta|MetodoPagamento_CartaoCredito|MetodoPagamento_BoletoEletronico|MetodoPagamento_Boleto|\n",
            "+----+----------+---------------+-----------------+----------+---------------+-----------------+-----+-------+-----------+------------+------------------------+---------------+------------+-----------------+--------------+-------+---------------+------------+------------+--------------------+------------+------------------------+------------------+---------------------+-----------------------------+-----------------------------+--------------------------------+----------------------+\n",
            "|7982|         0|              1|45.30540797610398|         0|              1|45.30540797610398|    1|      0|          0|           0|                       0|              0|           0|                0|             0|      1|              1|           1|           1|                   0|           0|                       1|                 0|                    0|                            0|                            0|                               1|                     0|\n",
            "|9465|         0|             60|103.6142230120257|         0|             60|103.6142230120257|    1|      1|          0|           1|                       1|              0|           1|                1|             0|      1|              1|           1|           0|                   1|           0|                       1|                 0|                    0|                            0|                            0|                               1|                     0|\n",
            "|2122|         0|             12|            75.85|         0|             12|            75.85|    0|      0|          0|           1|                       1|              0|           0|                0|             1|      1|              1|           1|           1|                   0|           0|                       0|                 1|                    0|                            0|                            0|                               0|                     1|\n",
            "|3997|         0|             69|            61.45|         0|             69|            61.45|    0|      1|          0|           1|                       0|              0|           1|                0|             0|      0|              1|           1|           1|                   0|           0|                       0|                 0|                    1|                            0|                            1|                               0|                     0|\n",
            "|6654|         0|              7|             86.5|         0|              7|             86.5|    1|      1|          0|           1|                       1|              0|           0|                0|             0|      1|              0|           1|           0|                   1|           0|                       1|                 0|                    0|                            0|                            0|                               1|                     0|\n",
            "|7880|         0|             14|85.03742670311915|         0|             14|85.03742670311915|    1|      0|          0|           1|                       1|              0|           0|                0|             0|      0|              1|           1|           0|                   1|           0|                       1|                 0|                    0|                            0|                            0|                               1|                     0|\n",
            "|4519|         0|             57|            109.4|         0|             57|            109.4|    0|      1|          0|           1|                       1|              0|           1|                1|             1|      1|              1|           1|           0|                   1|           0|                       0|                 1|                    0|                            1|                            0|                               0|                     0|\n",
            "|6466|         0|             18|            74.15|         0|             18|            74.15|    0|      0|          0|           1|                       1|              0|           0|                0|             0|      0|              0|           0|           0|                   1|           0|                       1|                 0|                    0|                            0|                            0|                               0|                     1|\n",
            "| 496|         0|             28|             60.9|         0|             28|             60.9|    0|      1|          0|           1|                       0|              1|           1|                0|             1|      0|              0|           0|           1|                   0|           0|                       1|                 0|                    0|                            0|                            0|                               0|                     1|\n",
            "|7833|         0|             46| 80.8824189403559|         0|             46| 80.8824189403559|    1|      1|          0|           1|                       0|              0|           0|                0|             0|      0|              1|           1|           0|                   1|           0|                       1|                 0|                    0|                            0|                            0|                               1|                     0|\n",
            "|1591|         0|             17|             21.1|         0|             17|             21.1|    0|      0|          0|           1|                       0|              0|           0|                0|             0|      0|              0|           0|           0|                   0|           1|                       1|                 0|                    0|                            0|                            1|                               0|                     0|\n",
            "|2866|         0|             12|             84.6|         0|             12|             84.6|    0|      0|          0|           1|                       0|              0|           1|                0|             0|      0|              1|           1|           0|                   1|           0|                       1|                 0|                    0|                            0|                            0|                               1|                     0|\n",
            "|8592|         0|              5|82.71735660557214|         0|              5|82.71735660557214|    1|      1|          0|           1|                       1|              0|           0|                0|             0|      1|              0|           1|           0|                   1|           0|                       1|                 0|                    0|                            0|                            0|                               1|                     0|\n",
            "|1829|         0|              8|            74.85|         0|              8|            74.85|    0|      0|          0|           1|                       1|              0|           0|                0|             0|      0|              0|           1|           0|                   1|           0|                       1|                 0|                    0|                            0|                            0|                               1|                     0|\n",
            "| 463|         0|              7|             99.8|         0|              7|             99.8|    1|      0|          0|           1|                       1|              0|           1|                0|             0|      1|              1|           1|           0|                   1|           0|                       1|                 0|                    0|                            0|                            0|                               1|                     0|\n",
            "|4900|         1|             37|             85.7|         1|             37|             85.7|    1|      1|          0|           1|                       1|              0|           0|                0|             0|      1|              0|           1|           0|                   1|           0|                       1|                 0|                    0|                            0|                            0|                               1|                     0|\n",
            "|4818|         1|             64|             80.3|         1|             64|             80.3|    0|      1|          0|           1|                       0|              1|           0|                1|             0|      0|              0|           0|           0|                   1|           0|                       0|                 1|                    0|                            0|                            1|                               0|                     0|\n",
            "|7554|         0|              1|50.74303124820026|         0|              1|50.74303124820026|    1|      0|          0|           1|                       0|              0|           1|                0|             0|      0|              0|           0|           1|                   0|           0|                       1|                 0|                    0|                            0|                            0|                               1|                     0|\n",
            "|1342|         0|              8|             20.0|         0|              8|             20.0|    0|      0|          0|           1|                       0|              0|           0|                0|             0|      0|              0|           0|           0|                   0|           1|                       0|                 0|                    1|                            0|                            0|                               0|                     1|\n",
            "|5300|         0|              1|            80.05|         0|              1|            80.05|    1|      1|          1|           1|                       0|              0|           0|                0|             0|      1|              0|           1|           0|                   1|           0|                       1|                 0|                    0|                            0|                            0|                               0|                     1|\n",
            "+----+----------+---------------+-----------------+----------+---------------+-----------------+-----+-------+-----------+------------+------------------------+---------------+------------+-----------------+--------------+-------+---------------+------------+------------+--------------------+------------+------------------------+------------------+---------------------+-----------------------------+-----------------------------+--------------------------------+----------------------+\n",
            "only showing top 20 rows\n",
            "\n"
          ]
        }
      ]
    },
    {
      "cell_type": "code",
      "source": [
        "dataset.printSchema()"
      ],
      "metadata": {
        "colab": {
          "base_uri": "https://localhost:8080/"
        },
        "id": "Xyu6N_5nb1Sa",
        "outputId": "d6440163-d137-437f-d4f0-ac2949751bd1"
      },
      "execution_count": 28,
      "outputs": [
        {
          "output_type": "stream",
          "name": "stdout",
          "text": [
            "root\n",
            " |-- id: integer (nullable = true)\n",
            " |-- Mais65anos: integer (nullable = true)\n",
            " |-- MesesDeContrato: integer (nullable = true)\n",
            " |-- MesesCobrados: double (nullable = true)\n",
            " |-- Mais65anos: integer (nullable = true)\n",
            " |-- MesesDeContrato: integer (nullable = true)\n",
            " |-- MesesCobrados: double (nullable = true)\n",
            " |-- Churn: integer (nullable = false)\n",
            " |-- Conjuge: integer (nullable = false)\n",
            " |-- Dependentes: integer (nullable = false)\n",
            " |-- TelefoneFixo: integer (nullable = false)\n",
            " |-- MaisDeUmaLinhaTelefonica: integer (nullable = false)\n",
            " |-- SegurancaOnline: integer (nullable = false)\n",
            " |-- BackupOnline: integer (nullable = false)\n",
            " |-- SeguroDispositivo: integer (nullable = false)\n",
            " |-- SuporteTecnico: integer (nullable = false)\n",
            " |-- TVaCabo: integer (nullable = false)\n",
            " |-- StreamingFilmes: integer (nullable = false)\n",
            " |-- ContaCorreio: integer (nullable = false)\n",
            " |-- Internet_DSL: integer (nullable = true)\n",
            " |-- Internet_FibraOptica: integer (nullable = true)\n",
            " |-- Internet_Nao: integer (nullable = true)\n",
            " |-- TipoContrato_Mensalmente: integer (nullable = true)\n",
            " |-- TipoContrato_UmAno: integer (nullable = true)\n",
            " |-- TipoContrato_DoisAnos: integer (nullable = true)\n",
            " |-- MetodoPagamento_DebitoEmConta: integer (nullable = true)\n",
            " |-- MetodoPagamento_CartaoCredito: integer (nullable = true)\n",
            " |-- MetodoPagamento_BoletoEletronico: integer (nullable = true)\n",
            " |-- MetodoPagamento_Boleto: integer (nullable = true)\n",
            "\n"
          ]
        }
      ]
    },
    {
      "cell_type": "markdown",
      "source": [
        "Aplicando Lógica de Regressão"
      ],
      "metadata": {
        "id": "HE6LmqvucoqO"
      }
    },
    {
      "cell_type": "code",
      "source": [
        "dataset.show()"
      ],
      "metadata": {
        "colab": {
          "base_uri": "https://localhost:8080/"
        },
        "id": "9hH-GJ9ScrYl",
        "outputId": "83b5d086-bcf2-4b66-e710-c2961a649a82"
      },
      "execution_count": 29,
      "outputs": [
        {
          "output_type": "stream",
          "name": "stdout",
          "text": [
            "+----+----------+---------------+-----------------+----------+---------------+-----------------+-----+-------+-----------+------------+------------------------+---------------+------------+-----------------+--------------+-------+---------------+------------+------------+--------------------+------------+------------------------+------------------+---------------------+-----------------------------+-----------------------------+--------------------------------+----------------------+\n",
            "|  id|Mais65anos|MesesDeContrato|    MesesCobrados|Mais65anos|MesesDeContrato|    MesesCobrados|Churn|Conjuge|Dependentes|TelefoneFixo|MaisDeUmaLinhaTelefonica|SegurancaOnline|BackupOnline|SeguroDispositivo|SuporteTecnico|TVaCabo|StreamingFilmes|ContaCorreio|Internet_DSL|Internet_FibraOptica|Internet_Nao|TipoContrato_Mensalmente|TipoContrato_UmAno|TipoContrato_DoisAnos|MetodoPagamento_DebitoEmConta|MetodoPagamento_CartaoCredito|MetodoPagamento_BoletoEletronico|MetodoPagamento_Boleto|\n",
            "+----+----------+---------------+-----------------+----------+---------------+-----------------+-----+-------+-----------+------------+------------------------+---------------+------------+-----------------+--------------+-------+---------------+------------+------------+--------------------+------------+------------------------+------------------+---------------------+-----------------------------+-----------------------------+--------------------------------+----------------------+\n",
            "|7982|         0|              1|45.30540797610398|         0|              1|45.30540797610398|    1|      0|          0|           0|                       0|              0|           0|                0|             0|      1|              1|           1|           1|                   0|           0|                       1|                 0|                    0|                            0|                            0|                               1|                     0|\n",
            "|9465|         0|             60|103.6142230120257|         0|             60|103.6142230120257|    1|      1|          0|           1|                       1|              0|           1|                1|             0|      1|              1|           1|           0|                   1|           0|                       1|                 0|                    0|                            0|                            0|                               1|                     0|\n",
            "|2122|         0|             12|            75.85|         0|             12|            75.85|    0|      0|          0|           1|                       1|              0|           0|                0|             1|      1|              1|           1|           1|                   0|           0|                       0|                 1|                    0|                            0|                            0|                               0|                     1|\n",
            "|3997|         0|             69|            61.45|         0|             69|            61.45|    0|      1|          0|           1|                       0|              0|           1|                0|             0|      0|              1|           1|           1|                   0|           0|                       0|                 0|                    1|                            0|                            1|                               0|                     0|\n",
            "|6654|         0|              7|             86.5|         0|              7|             86.5|    1|      1|          0|           1|                       1|              0|           0|                0|             0|      1|              0|           1|           0|                   1|           0|                       1|                 0|                    0|                            0|                            0|                               1|                     0|\n",
            "|7880|         0|             14|85.03742670311915|         0|             14|85.03742670311915|    1|      0|          0|           1|                       1|              0|           0|                0|             0|      0|              1|           1|           0|                   1|           0|                       1|                 0|                    0|                            0|                            0|                               1|                     0|\n",
            "|4519|         0|             57|            109.4|         0|             57|            109.4|    0|      1|          0|           1|                       1|              0|           1|                1|             1|      1|              1|           1|           0|                   1|           0|                       0|                 1|                    0|                            1|                            0|                               0|                     0|\n",
            "|6466|         0|             18|            74.15|         0|             18|            74.15|    0|      0|          0|           1|                       1|              0|           0|                0|             0|      0|              0|           0|           0|                   1|           0|                       1|                 0|                    0|                            0|                            0|                               0|                     1|\n",
            "| 496|         0|             28|             60.9|         0|             28|             60.9|    0|      1|          0|           1|                       0|              1|           1|                0|             1|      0|              0|           0|           1|                   0|           0|                       1|                 0|                    0|                            0|                            0|                               0|                     1|\n",
            "|7833|         0|             46| 80.8824189403559|         0|             46| 80.8824189403559|    1|      1|          0|           1|                       0|              0|           0|                0|             0|      0|              1|           1|           0|                   1|           0|                       1|                 0|                    0|                            0|                            0|                               1|                     0|\n",
            "|1591|         0|             17|             21.1|         0|             17|             21.1|    0|      0|          0|           1|                       0|              0|           0|                0|             0|      0|              0|           0|           0|                   0|           1|                       1|                 0|                    0|                            0|                            1|                               0|                     0|\n",
            "|2866|         0|             12|             84.6|         0|             12|             84.6|    0|      0|          0|           1|                       0|              0|           1|                0|             0|      0|              1|           1|           0|                   1|           0|                       1|                 0|                    0|                            0|                            0|                               1|                     0|\n",
            "|8592|         0|              5|82.71735660557214|         0|              5|82.71735660557214|    1|      1|          0|           1|                       1|              0|           0|                0|             0|      1|              0|           1|           0|                   1|           0|                       1|                 0|                    0|                            0|                            0|                               1|                     0|\n",
            "|1829|         0|              8|            74.85|         0|              8|            74.85|    0|      0|          0|           1|                       1|              0|           0|                0|             0|      0|              0|           1|           0|                   1|           0|                       1|                 0|                    0|                            0|                            0|                               1|                     0|\n",
            "| 463|         0|              7|             99.8|         0|              7|             99.8|    1|      0|          0|           1|                       1|              0|           1|                0|             0|      1|              1|           1|           0|                   1|           0|                       1|                 0|                    0|                            0|                            0|                               1|                     0|\n",
            "|4900|         1|             37|             85.7|         1|             37|             85.7|    1|      1|          0|           1|                       1|              0|           0|                0|             0|      1|              0|           1|           0|                   1|           0|                       1|                 0|                    0|                            0|                            0|                               1|                     0|\n",
            "|4818|         1|             64|             80.3|         1|             64|             80.3|    0|      1|          0|           1|                       0|              1|           0|                1|             0|      0|              0|           0|           0|                   1|           0|                       0|                 1|                    0|                            0|                            1|                               0|                     0|\n",
            "|7554|         0|              1|50.74303124820026|         0|              1|50.74303124820026|    1|      0|          0|           1|                       0|              0|           1|                0|             0|      0|              0|           0|           1|                   0|           0|                       1|                 0|                    0|                            0|                            0|                               1|                     0|\n",
            "|1342|         0|              8|             20.0|         0|              8|             20.0|    0|      0|          0|           1|                       0|              0|           0|                0|             0|      0|              0|           0|           0|                   0|           1|                       0|                 0|                    1|                            0|                            0|                               0|                     1|\n",
            "|5300|         0|              1|            80.05|         0|              1|            80.05|    1|      1|          1|           1|                       0|              0|           0|                0|             0|      1|              0|           1|           0|                   1|           0|                       1|                 0|                    0|                            0|                            0|                               0|                     1|\n",
            "+----+----------+---------------+-----------------+----------+---------------+-----------------+-----+-------+-----------+------------+------------------------+---------------+------------+-----------------+--------------+-------+---------------+------------+------------+--------------------+------------+------------------------+------------------+---------------------+-----------------------------+-----------------------------+--------------------------------+----------------------+\n",
            "only showing top 20 rows\n",
            "\n"
          ]
        }
      ]
    },
    {
      "cell_type": "code",
      "source": [
        "from pyspark.ml.feature import VectorAssembler"
      ],
      "metadata": {
        "id": "Aj9qngptc4tB"
      },
      "execution_count": 30,
      "outputs": []
    },
    {
      "cell_type": "code",
      "source": [
        "dataset = dataset.withColumnRenamed('Churn', 'label')"
      ],
      "metadata": {
        "id": "wKmGjXe8c__L"
      },
      "execution_count": 31,
      "outputs": []
    },
    {
      "cell_type": "code",
      "source": [
        "X = dataset.columns\n",
        "X.remove('label')\n",
        "X.remove('id')\n",
        "\n",
        "X"
      ],
      "metadata": {
        "colab": {
          "base_uri": "https://localhost:8080/"
        },
        "id": "7nRRslwddL1w",
        "outputId": "48682cd1-54bb-4833-b28c-3ee55e647b71"
      },
      "execution_count": 32,
      "outputs": [
        {
          "output_type": "execute_result",
          "data": {
            "text/plain": [
              "['Mais65anos',\n",
              " 'MesesDeContrato',\n",
              " 'MesesCobrados',\n",
              " 'Mais65anos',\n",
              " 'MesesDeContrato',\n",
              " 'MesesCobrados',\n",
              " 'Conjuge',\n",
              " 'Dependentes',\n",
              " 'TelefoneFixo',\n",
              " 'MaisDeUmaLinhaTelefonica',\n",
              " 'SegurancaOnline',\n",
              " 'BackupOnline',\n",
              " 'SeguroDispositivo',\n",
              " 'SuporteTecnico',\n",
              " 'TVaCabo',\n",
              " 'StreamingFilmes',\n",
              " 'ContaCorreio',\n",
              " 'Internet_DSL',\n",
              " 'Internet_FibraOptica',\n",
              " 'Internet_Nao',\n",
              " 'TipoContrato_Mensalmente',\n",
              " 'TipoContrato_UmAno',\n",
              " 'TipoContrato_DoisAnos',\n",
              " 'MetodoPagamento_DebitoEmConta',\n",
              " 'MetodoPagamento_CartaoCredito',\n",
              " 'MetodoPagamento_BoletoEletronico',\n",
              " 'MetodoPagamento_Boleto']"
            ]
          },
          "metadata": {},
          "execution_count": 32
        }
      ]
    },
    {
      "cell_type": "code",
      "source": [
        "assembler = VectorAssembler(inputCols=X, outputCol='features')"
      ],
      "metadata": {
        "id": "BC_vMvdCdfIO"
      },
      "execution_count": 33,
      "outputs": []
    },
    {
      "cell_type": "code",
      "source": [
        "dataset_prep = assembler.transform(dataset).select('features', 'label')"
      ],
      "metadata": {
        "id": "m3-EGULCdrKX"
      },
      "execution_count": 34,
      "outputs": []
    },
    {
      "cell_type": "code",
      "source": [
        "dataset_prep.show(truncate=False)"
      ],
      "metadata": {
        "colab": {
          "base_uri": "https://localhost:8080/"
        },
        "id": "oggVCrSwd4ZL",
        "outputId": "7a688178-1f42-45f0-d6c1-63eb5e47990f"
      },
      "execution_count": 35,
      "outputs": [
        {
          "output_type": "stream",
          "name": "stdout",
          "text": [
            "+----------------------------------------------------------------------------------------------------------------------------------------+-----+\n",
            "|features                                                                                                                                |label|\n",
            "+----------------------------------------------------------------------------------------------------------------------------------------+-----+\n",
            "|(27,[1,2,4,5,14,15,16,17,20,25],[1.0,45.30540797610398,1.0,45.30540797610398,1.0,1.0,1.0,1.0,1.0,1.0])                                  |1    |\n",
            "|(27,[1,2,4,5,6,8,9,11,12,14,15,16,18,20,25],[60.0,103.6142230120257,60.0,103.6142230120257,1.0,1.0,1.0,1.0,1.0,1.0,1.0,1.0,1.0,1.0,1.0])|1    |\n",
            "|(27,[1,2,4,5,8,9,13,14,15,16,17,21,26],[12.0,75.85,12.0,75.85,1.0,1.0,1.0,1.0,1.0,1.0,1.0,1.0,1.0])                                     |0    |\n",
            "|(27,[1,2,4,5,6,8,11,15,16,17,22,24],[69.0,61.45,69.0,61.45,1.0,1.0,1.0,1.0,1.0,1.0,1.0,1.0])                                            |0    |\n",
            "|(27,[1,2,4,5,6,8,9,14,16,18,20,25],[7.0,86.5,7.0,86.5,1.0,1.0,1.0,1.0,1.0,1.0,1.0,1.0])                                                 |1    |\n",
            "|(27,[1,2,4,5,8,9,15,16,18,20,25],[14.0,85.03742670311915,14.0,85.03742670311915,1.0,1.0,1.0,1.0,1.0,1.0,1.0])                           |1    |\n",
            "|(27,[1,2,4,5,6,8,9,11,12,13,14,15,16,18,21,23],[57.0,109.4,57.0,109.4,1.0,1.0,1.0,1.0,1.0,1.0,1.0,1.0,1.0,1.0,1.0,1.0])                 |0    |\n",
            "|(27,[1,2,4,5,8,9,18,20,26],[18.0,74.15,18.0,74.15,1.0,1.0,1.0,1.0,1.0])                                                                 |0    |\n",
            "|(27,[1,2,4,5,6,8,10,11,13,17,20,26],[28.0,60.9,28.0,60.9,1.0,1.0,1.0,1.0,1.0,1.0,1.0,1.0])                                              |0    |\n",
            "|(27,[1,2,4,5,6,8,15,16,18,20,25],[46.0,80.8824189403559,46.0,80.8824189403559,1.0,1.0,1.0,1.0,1.0,1.0,1.0])                             |1    |\n",
            "|(27,[1,2,4,5,8,19,20,24],[17.0,21.1,17.0,21.1,1.0,1.0,1.0,1.0])                                                                         |0    |\n",
            "|(27,[1,2,4,5,8,11,15,16,18,20,25],[12.0,84.6,12.0,84.6,1.0,1.0,1.0,1.0,1.0,1.0,1.0])                                                    |0    |\n",
            "|(27,[1,2,4,5,6,8,9,14,16,18,20,25],[5.0,82.71735660557214,5.0,82.71735660557214,1.0,1.0,1.0,1.0,1.0,1.0,1.0,1.0])                       |1    |\n",
            "|(27,[1,2,4,5,8,9,16,18,20,25],[8.0,74.85,8.0,74.85,1.0,1.0,1.0,1.0,1.0,1.0])                                                            |0    |\n",
            "|(27,[1,2,4,5,8,9,11,14,15,16,18,20,25],[7.0,99.8,7.0,99.8,1.0,1.0,1.0,1.0,1.0,1.0,1.0,1.0,1.0])                                         |1    |\n",
            "|(27,[0,1,2,3,4,5,6,8,9,14,16,18,20,25],[1.0,37.0,85.7,1.0,37.0,85.7,1.0,1.0,1.0,1.0,1.0,1.0,1.0,1.0])                                   |1    |\n",
            "|(27,[0,1,2,3,4,5,6,8,10,12,18,21,24],[1.0,64.0,80.3,1.0,64.0,80.3,1.0,1.0,1.0,1.0,1.0,1.0,1.0])                                         |0    |\n",
            "|(27,[1,2,4,5,8,11,17,20,25],[1.0,50.74303124820026,1.0,50.74303124820026,1.0,1.0,1.0,1.0,1.0])                                          |1    |\n",
            "|(27,[1,2,4,5,8,19,22,26],[8.0,20.0,8.0,20.0,1.0,1.0,1.0,1.0])                                                                           |0    |\n",
            "|(27,[1,2,4,5,6,7,8,14,16,18,20,26],[1.0,80.05,1.0,80.05,1.0,1.0,1.0,1.0,1.0,1.0,1.0,1.0])                                               |1    |\n",
            "+----------------------------------------------------------------------------------------------------------------------------------------+-----+\n",
            "only showing top 20 rows\n",
            "\n"
          ]
        }
      ]
    },
    {
      "cell_type": "markdown",
      "source": [
        "Ajuste e Previsão"
      ],
      "metadata": {
        "id": "7Beocfq8eKxc"
      }
    },
    {
      "cell_type": "code",
      "source": [
        "SEED = 101"
      ],
      "metadata": {
        "id": "RI8-EjspeMyk"
      },
      "execution_count": 36,
      "outputs": []
    },
    {
      "cell_type": "code",
      "source": [
        "treino, teste = dataset_prep.randomSplit([0.7,0.3], seed=SEED)"
      ],
      "metadata": {
        "id": "rOsxmxtMeNnF"
      },
      "execution_count": 37,
      "outputs": []
    },
    {
      "cell_type": "code",
      "source": [
        "treino.count()"
      ],
      "metadata": {
        "colab": {
          "base_uri": "https://localhost:8080/"
        },
        "id": "uN-G8W7EeeBr",
        "outputId": "4cfece65-6ba8-4eb9-a5c7-335aaa73ec34"
      },
      "execution_count": 38,
      "outputs": [
        {
          "output_type": "execute_result",
          "data": {
            "text/plain": [
              "7206"
            ]
          },
          "metadata": {},
          "execution_count": 38
        }
      ]
    },
    {
      "cell_type": "code",
      "source": [
        "teste.count()"
      ],
      "metadata": {
        "colab": {
          "base_uri": "https://localhost:8080/"
        },
        "id": "h2o65abAemeL",
        "outputId": "044669d6-8384-40f7-acde-bd78be4aa150"
      },
      "execution_count": 39,
      "outputs": [
        {
          "output_type": "execute_result",
          "data": {
            "text/plain": [
              "3142"
            ]
          },
          "metadata": {},
          "execution_count": 39
        }
      ]
    },
    {
      "cell_type": "code",
      "source": [
        "from pyspark.ml.classification import LogisticRegression"
      ],
      "metadata": {
        "id": "RlpPuao2esuf"
      },
      "execution_count": 40,
      "outputs": []
    },
    {
      "cell_type": "code",
      "source": [
        "lr = LogisticRegression()"
      ],
      "metadata": {
        "id": "f5msOYxYe3uj"
      },
      "execution_count": 41,
      "outputs": []
    },
    {
      "cell_type": "code",
      "source": [
        "modelo_lr = lr.fit(treino)"
      ],
      "metadata": {
        "id": "qftRMjo2e-c8"
      },
      "execution_count": 42,
      "outputs": []
    },
    {
      "cell_type": "code",
      "source": [
        "previsoes_lr_teste = modelo_lr.transform(teste)"
      ],
      "metadata": {
        "id": "LnC-qJq-fJYf"
      },
      "execution_count": 43,
      "outputs": []
    },
    {
      "cell_type": "code",
      "source": [
        "previsoes_lr_teste.show()"
      ],
      "metadata": {
        "colab": {
          "base_uri": "https://localhost:8080/"
        },
        "id": "X8jqHNkTfRZ7",
        "outputId": "a65084c5-227b-487b-a73f-6eb201ec1b7a"
      },
      "execution_count": 44,
      "outputs": [
        {
          "output_type": "stream",
          "name": "stdout",
          "text": [
            "+--------------------+-----+--------------------+--------------------+----------+\n",
            "|            features|label|       rawPrediction|         probability|prediction|\n",
            "+--------------------+-----+--------------------+--------------------+----------+\n",
            "|(27,[0,1,2,3,4,5,...|    1|[0.26787411364264...|[0.56657092871017...|       0.0|\n",
            "|(27,[0,1,2,3,4,5,...|    0|[0.76209953939078...|[0.68180939285077...|       0.0|\n",
            "|(27,[0,1,2,3,4,5,...|    0|[-1.4881101644678...|[0.18420555084063...|       1.0|\n",
            "|(27,[0,1,2,3,4,5,...|    0|[0.23055667387114...|[0.55738519428934...|       0.0|\n",
            "|(27,[0,1,2,3,4,5,...|    0|[4.32846305449027...|[0.98698385349474...|       0.0|\n",
            "|(27,[0,1,2,3,4,5,...|    0|[2.24593503311992...|[0.90429932219024...|       0.0|\n",
            "|(27,[0,1,2,3,4,5,...|    0|[-0.0349937363585...|[0.49125245855074...|       1.0|\n",
            "|(27,[0,1,2,3,4,5,...|    0|[-0.0932113806696...|[0.47671401214836...|       1.0|\n",
            "|(27,[0,1,2,3,4,5,...|    1|[1.45246000530187...|[0.81037674250111...|       0.0|\n",
            "|(27,[0,1,2,3,4,5,...|    0|[5.39292655265791...|[0.99547195446061...|       0.0|\n",
            "|(27,[0,1,2,3,4,5,...|    1|[1.38073230866967...|[0.79910858647943...|       0.0|\n",
            "|(27,[0,1,2,3,4,5,...|    0|[0.09770283416871...|[0.52440629673895...|       0.0|\n",
            "|(27,[0,1,2,3,4,5,...|    0|[0.47433137808219...|[0.61640842179440...|       0.0|\n",
            "|(27,[0,1,2,3,4,5,...|    0|[-0.3211467569883...|[0.42039629983634...|       1.0|\n",
            "|(27,[0,1,2,3,4,5,...|    0|[2.71210316351520...|[0.93773705759821...|       0.0|\n",
            "|(27,[0,1,2,3,4,5,...|    1|[-0.7901449811779...|[0.31213753999465...|       1.0|\n",
            "|(27,[0,1,2,3,4,5,...|    0|[1.45016806693900...|[0.81002429830217...|       0.0|\n",
            "|(27,[0,1,2,3,4,5,...|    0|[3.20617128085751...|[0.96106585409339...|       0.0|\n",
            "|(27,[0,1,2,3,4,5,...|    1|[1.03126203135786...|[0.73716049376987...|       0.0|\n",
            "|(27,[0,1,2,3,4,5,...|    0|[-1.2979898789353...|[0.21450351141336...|       1.0|\n",
            "+--------------------+-----+--------------------+--------------------+----------+\n",
            "only showing top 20 rows\n",
            "\n"
          ]
        }
      ]
    },
    {
      "cell_type": "markdown",
      "source": [
        "Métricas"
      ],
      "metadata": {
        "id": "ZE8bAuS7fZss"
      }
    },
    {
      "cell_type": "code",
      "source": [
        "resumo_lr_treino = modelo_lr.summary"
      ],
      "metadata": {
        "id": "NX2jxlfxfbaA"
      },
      "execution_count": 45,
      "outputs": []
    },
    {
      "cell_type": "code",
      "source": [
        "resumo_lr_treino.accuracy"
      ],
      "metadata": {
        "colab": {
          "base_uri": "https://localhost:8080/"
        },
        "id": "_J-Q9zdPfkRs",
        "outputId": "38294ab4-3985-4cde-f154-fd973a3305be"
      },
      "execution_count": 46,
      "outputs": [
        {
          "output_type": "execute_result",
          "data": {
            "text/plain": [
              "0.7829586455731335"
            ]
          },
          "metadata": {},
          "execution_count": 46
        }
      ]
    },
    {
      "cell_type": "code",
      "source": [
        "print(\"Acurácia: %f\" % resumo_lr_treino.accuracy)\n",
        "print(\"Precisão: %f\" % resumo_lr_treino.precisionByLabel[1])\n",
        "print(\"Recall: %f\" % resumo_lr_treino.recallByLabel[1])\n",
        "print(\"F1: %f\" % resumo_lr_treino.fMeasureByLabel()[1])"
      ],
      "metadata": {
        "colab": {
          "base_uri": "https://localhost:8080/"
        },
        "id": "b2MM6q5tfvjk",
        "outputId": "2fd686e3-97dd-47d6-d3ec-3ce523677d28"
      },
      "execution_count": 47,
      "outputs": [
        {
          "output_type": "stream",
          "name": "stdout",
          "text": [
            "Acurácia: 0.782959\n",
            "Precisão: 0.766605\n",
            "Recall: 0.812239\n",
            "F1: 0.788763\n"
          ]
        }
      ]
    },
    {
      "cell_type": "code",
      "source": [
        "previsoes_lr_teste.select('label', 'prediction').where((f.col('label')== 1) & (f.col('prediction')==1)).count()"
      ],
      "metadata": {
        "colab": {
          "base_uri": "https://localhost:8080/"
        },
        "id": "ma1UaqjDgAGY",
        "outputId": "64f3cfbd-63ea-446b-e38b-e3d120e58dbc"
      },
      "execution_count": 48,
      "outputs": [
        {
          "output_type": "execute_result",
          "data": {
            "text/plain": [
              "1296"
            ]
          },
          "metadata": {},
          "execution_count": 48
        }
      ]
    },
    {
      "cell_type": "code",
      "source": [
        "tp = previsoes_lr_teste.select('label', 'prediction').where((f.col('label') == 1) & (f.col('prediction') == 1)).count()\n",
        "tn = previsoes_lr_teste.select('label', 'prediction').where((f.col('label') == 0) & (f.col('prediction') == 0)).count()\n",
        "fp = previsoes_lr_teste.select('label', 'prediction').where((f.col('label') == 0) & (f.col('prediction') == 1)).count()\n",
        "fn = previsoes_lr_teste.select('label', 'prediction').where((f.col('label') == 1) & (f.col('prediction') == 0)).count()\n",
        "print(tp, tn,fp, fn)"
      ],
      "metadata": {
        "colab": {
          "base_uri": "https://localhost:8080/"
        },
        "id": "mKT7EqbggqQ8",
        "outputId": "065f945b-158f-4853-deae-a7a1cc03ac2a"
      },
      "execution_count": 49,
      "outputs": [
        {
          "output_type": "stream",
          "name": "stdout",
          "text": [
            "1296 1203 360 283\n"
          ]
        }
      ]
    },
    {
      "cell_type": "code",
      "source": [
        "def calcula_mostra_matriz_confusao(df_transform_modelo, normalize=False, percentage=True):\n",
        "  tp = df_transform_modelo.select('label', 'prediction').where((f.col('label') == 1) & (f.col('prediction') == 1)).count()\n",
        "  tn = df_transform_modelo.select('label', 'prediction').where((f.col('label') == 0) & (f.col('prediction') == 0)).count()\n",
        "  fp = df_transform_modelo.select('label', 'prediction').where((f.col('label') == 0) & (f.col('prediction') == 1)).count()\n",
        "  fn = df_transform_modelo.select('label', 'prediction').where((f.col('label') == 1) & (f.col('prediction') == 0)).count()\n",
        "\n",
        "  valorP = 1\n",
        "  valorN = 1\n",
        "\n",
        "  if normalize:\n",
        "    valorP = tp + fn\n",
        "    valorN = fp + tn\n",
        "\n",
        "  if percentage and normalize:\n",
        "    valorP = valorP / 100\n",
        "    valorN = valorN / 100\n",
        "\n",
        "  print(' '*20, 'Previsto')\n",
        "  print(' '*15, 'Churn', ' '*5 ,'Não-Churn')\n",
        "  print(' '*4, 'Churn', ' '*6, int(tp/valorP), ' '*7, int(fn/valorP))\n",
        "  print('Real')\n",
        "  print(' '*4, 'Não-Churn', ' '*2, int(fp/valorN), ' '*7, int(tn/valorN))"
      ],
      "metadata": {
        "id": "dgKe9Mh7gv-G"
      },
      "execution_count": 50,
      "outputs": []
    },
    {
      "cell_type": "code",
      "source": [
        "calcula_mostra_matriz_confusao(previsoes_lr_teste, normalize=False)"
      ],
      "metadata": {
        "colab": {
          "base_uri": "https://localhost:8080/"
        },
        "id": "HwblfyKbg2XQ",
        "outputId": "adc98ffa-9d20-48f0-a439-6e0568444af2"
      },
      "execution_count": 51,
      "outputs": [
        {
          "output_type": "stream",
          "name": "stdout",
          "text": [
            "                     Previsto\n",
            "                Churn       Não-Churn\n",
            "     Churn        1296         283\n",
            "Real\n",
            "     Não-Churn    360         1203\n"
          ]
        }
      ]
    }
  ]
}